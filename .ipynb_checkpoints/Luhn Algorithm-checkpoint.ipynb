{
 "cells": [
  {
   "cell_type": "markdown",
   "id": "ee844dca-3ccb-4367-891b-fb8963264d76",
   "metadata": {},
   "source": [
    "#### The Luhn algorithm is as follows:\n",
    "\n",
    "From the right to left, double the value of every second digit; if the product is greater than 9, sum the digits of the products.\n",
    "\n",
    " - Take the sum of all the digits.\n",
    "\n",
    " - If the sum of all the digits is a multiple of 10, then the number is valid; else it is not valid.\n",
    "\n",
    " - Assume an example of an account number \"7992739871\" that will have a check digit added, making it of the form 7992739871x:\n",
    "\n",
    "        Account number      7   9  9  2  7  3  9   8  7  1  x\n",
    "\n",
    "        Double every other  7  18  9  4  7  6  9  16  7  2  x\n",
    "\n",
    "        Sum 2-char digits   7   9  9  4  7  6  9   7  7  2  x\n"
   ]
  },
  {
   "cell_type": "code",
   "execution_count": null,
   "id": "43720eaa-6ee7-4121-85a7-25b6a635c158",
   "metadata": {},
   "outputs": [],
   "source": [
    "def verify_card_number(card_number):\n",
    "    sum_of_odd_digits = 0\n",
    "    # Getting the card number from right to left\n",
    "    card_number_reversed = card_number[::-1]\n",
    "    \n",
    "    odd_digits = card_number_reversed[::2]\n",
    "    # Getting sum of oddly placed digits\n",
    "    for digit in odd_digits:\n",
    "        sum_of_odd_digits += int(digit)\n",
    "\n",
    "    sum_of_even_digits = 0\n",
    "    even_digits = card_number_reversed[1::2]\n",
    "    #getting sum of evenly placed\n",
    "    for digit in even_digits:\n",
    "        number = int(digit) * 2\n",
    "        if number >= 10:\n",
    "            number = (number // 10) + (number % 10)\n",
    "        sum_of_even_digits += number\n",
    "    total = sum_of_odd_digits + sum_of_even_digits\n",
    "    # return as modulo of 10, if its multiple of 10 card is valid and returns true else false\n",
    "    return total % 10 == 0\n",
    "\n",
    "def main():\n",
    "    card_number = '4111-1111-4555-1142'   #card number here with dashes\n",
    "    # str.maketrans() creates a tranfertable here all key are replaced with their values\n",
    "    card_translation = str.maketrans({'-': '', ' ': ''})\n",
    "    # Here all - and spaces is replaced with empty string\n",
    "    translated_card_number = card_number.translate(card_translation)\n",
    "    #calling the verify card funtion it returns true or false as validity of the card\n",
    "    if verify_card_number(translated_card_number):\n",
    "        print('VALID!')\n",
    "    else:\n",
    "        print('INVALID!')\n",
    "\n",
    "main()"
   ]
  }
 ],
 "metadata": {
  "kernelspec": {
   "display_name": "Python 3 (ipykernel)",
   "language": "python",
   "name": "python3"
  },
  "language_info": {
   "codemirror_mode": {
    "name": "ipython",
    "version": 3
   },
   "file_extension": ".py",
   "mimetype": "text/x-python",
   "name": "python",
   "nbconvert_exporter": "python",
   "pygments_lexer": "ipython3",
   "version": "3.11.7"
  }
 },
 "nbformat": 4,
 "nbformat_minor": 5
}
