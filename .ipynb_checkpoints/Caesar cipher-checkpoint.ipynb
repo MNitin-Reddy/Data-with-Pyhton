{
 "cells": [
  {
   "cell_type": "markdown",
   "id": "d3fcec57-ba37-471f-8a29-615b45684aa9",
   "metadata": {},
   "source": [
    "### Caesar cipher"
   ]
  },
  {
   "cell_type": "code",
   "execution_count": 10,
   "id": "ebc1edb2-c8b2-4863-af5e-ed5959144c94",
   "metadata": {},
   "outputs": [
    {
     "name": "stdin",
     "output_type": "stream",
     "text": [
      "Enter text to be encrypted:  Bikey\n",
      "Enter the key shift:  9\n"
     ]
    },
    {
     "name": "stdout",
     "output_type": "stream",
     "text": [
      "encrypted text: krtnh\n",
      "decrypted text: bikey\n"
     ]
    },
    {
     "data": {
      "text/plain": [
       "'bikey'"
      ]
     },
     "execution_count": 10,
     "metadata": {},
     "output_type": "execute_result"
    }
   ],
   "source": [
    "\n",
    "text = input(\"Enter text to be encrypted: \")\n",
    "shift = int(input('Enter the key shift: '))\n",
    "\n",
    "def caesar_encrypt(message, offset):\n",
    "    alphabet = 'abcdefghijklmnopqrstuvwxyz'\n",
    "    encrypted_text = ''\n",
    "    for char in message.lower():\n",
    "        if not char.isalpha():\n",
    "            encrypted_text += char\n",
    "        else:\n",
    "            index = alphabet.find(char)\n",
    "            new_index = (index + offset) % len(alphabet)\n",
    "            encrypted_text += alphabet[new_index]\n",
    "    print('encrypted text:', encrypted_text)\n",
    "    return encrypted_text\n",
    "    \n",
    "def caesar_decrypt(code, key):\n",
    "    alphabet = 'abcdefghijklmnopqrstuvwxyz'\n",
    "    decrypted_text = ''\n",
    "    for char in code.lower():\n",
    "        if not char.isalpha():\n",
    "            decrypted_text += char\n",
    "        else:\n",
    "            index = alphabet.find(char)\n",
    "            new_index = (26 + index - key) % len(alphabet)\n",
    "            decrypted_text += alphabet[new_index]\n",
    "    print('decrypted text:', decrypted_text)\n",
    "    return decrypted_text\n",
    "\n",
    "encrypted = caesar_encrypt(text,shift)\n",
    "caesar_decrypt(encrypted, shift)"
   ]
  }
 ],
 "metadata": {
  "kernelspec": {
   "display_name": "Python 3 (ipykernel)",
   "language": "python",
   "name": "python3"
  },
  "language_info": {
   "codemirror_mode": {
    "name": "ipython",
    "version": 3
   },
   "file_extension": ".py",
   "mimetype": "text/x-python",
   "name": "python",
   "nbconvert_exporter": "python",
   "pygments_lexer": "ipython3",
   "version": "3.11.7"
  }
 },
 "nbformat": 4,
 "nbformat_minor": 5
}
