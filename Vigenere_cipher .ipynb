{
 "cells": [
  {
   "cell_type": "markdown",
   "id": "a1b6690d-35b9-4c10-85ca-2130f86e84c1",
   "metadata": {},
   "source": [
    "### Vigenere cipher \n",
    "The Vigenère cipher is a method of encrypting alphabetic text where each letter of the plaintext is encoded with a different Caesar cipher, whose increment is determined by the corresponding letter of another text, the key.\r\n",
    "\r\n",
    "For example, if the plaintext is attacking tonight and the key is OCULORHINOLARINGOLOGY, th \r\n",
    "\r\n",
    "\n",
    " - the first letter a of the plaintext is shifted by 14 positions in the alphabet (because the first letter O of the key is the 14th letter of the alphabet, counting from 0), yieldin\n",
    "   \n",
    "-  o;\r\n",
    "the second letter t is shifted by 2 (because the second letter C of the key means 2lding v;\n",
    "   \n",
    "- g v;\r\n",
    "the third letter t is shifted by 20 (U) yielding n, with wrap-a ound;\r\n",
    "and so on; yielding the message ovnlqbpvt hznzouz. If the recipient of the message knows the key, they can recover the plaintext by reversing this process.\r\n",
    "\r\n",
    "The Vigenère cipher is therefore a special case of a polyalphabetic substitution.[1][2]"
   ]
  },
  {
   "cell_type": "code",
   "execution_count": 1,
   "id": "cf09c03a-f953-41c3-a128-fdce0a268d1c",
   "metadata": {},
   "outputs": [
    {
     "name": "stdin",
     "output_type": "stream",
     "text": [
      "Enter a text:  abcd\n",
      "Enter key text:  efg\n"
     ]
    },
    {
     "name": "stdout",
     "output_type": "stream",
     "text": [
      "egih\n"
     ]
    },
    {
     "data": {
      "text/plain": [
       "'abcd'"
      ]
     },
     "execution_count": 1,
     "metadata": {},
     "output_type": "execute_result"
    }
   ],
   "source": [
    "def vigenere(message, key, direction=1):\n",
    "    key_index = 0\n",
    "    alphabet = 'abcdefghijklmnopqrstuvwxyz'\n",
    "    final_message = ''\n",
    "\n",
    "    for char in message.lower():\n",
    "\n",
    "        # Append any non-letter character to the message\n",
    "        if not char.isalpha():\n",
    "            final_message += char\n",
    "        else:        \n",
    "            # Find the right key character to encode/decode\n",
    "            key_char = key[key_index % len(key)]\n",
    "            key_index += 1\n",
    "\n",
    "            # Define the offset and the encrypted/decrypted letter\n",
    "            offset = alphabet.index(key_char)\n",
    "            index = alphabet.find(char)\n",
    "            new_index = (index + offset*direction) % len(alphabet)\n",
    "            final_message += alphabet[new_index]\n",
    "    \n",
    "    return final_message\n",
    "\n",
    "def encrypt(message, key):\n",
    "    return vigenere(message, key)\n",
    "    \n",
    "def decrypt(message, key):\n",
    "    return vigenere(message, key, -1)\n",
    "\n",
    "text = input(\"Enter a text: \")\n",
    "key = input(\"Enter key text: \")\n",
    "\n",
    "msg = encrypt(text, key)\n",
    "print(msg)\n",
    "decrypt(msg, key)"
   ]
  }
 ],
 "metadata": {
  "kernelspec": {
   "display_name": "Python 3 (ipykernel)",
   "language": "python",
   "name": "python3"
  },
  "language_info": {
   "codemirror_mode": {
    "name": "ipython",
    "version": 3
   },
   "file_extension": ".py",
   "mimetype": "text/x-python",
   "name": "python",
   "nbconvert_exporter": "python",
   "pygments_lexer": "ipython3",
   "version": "3.11.7"
  }
 },
 "nbformat": 4,
 "nbformat_minor": 5
}
